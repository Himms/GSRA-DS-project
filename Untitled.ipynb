{
 "cells": [
  {
   "cell_type": "code",
   "execution_count": 286,
   "id": "01fe8ffa",
   "metadata": {},
   "outputs": [],
   "source": [
    "import numpy as np\n",
    "import pandas as pd"
   ]
  },
  {
   "cell_type": "code",
   "execution_count": 287,
   "id": "cafb035d",
   "metadata": {},
   "outputs": [],
   "source": [
    "import matplotlib.pyplot as plt\n",
    "import seaborn as sns"
   ]
  },
  {
   "cell_type": "code",
   "execution_count": 288,
   "id": "b91dd1af",
   "metadata": {},
   "outputs": [],
   "source": [
    "df1 = pd.read_csv('/Users/himms/Desktop/GSRA DS project/brasil-real-estate-1.csv')"
   ]
  },
  {
   "cell_type": "code",
   "execution_count": 289,
   "id": "497efb34",
   "metadata": {},
   "outputs": [
    {
     "data": {
      "text/html": [
       "<div>\n",
       "<style scoped>\n",
       "    .dataframe tbody tr th:only-of-type {\n",
       "        vertical-align: middle;\n",
       "    }\n",
       "\n",
       "    .dataframe tbody tr th {\n",
       "        vertical-align: top;\n",
       "    }\n",
       "\n",
       "    .dataframe thead th {\n",
       "        text-align: right;\n",
       "    }\n",
       "</style>\n",
       "<table border=\"1\" class=\"dataframe\">\n",
       "  <thead>\n",
       "    <tr style=\"text-align: right;\">\n",
       "      <th></th>\n",
       "      <th>property_type</th>\n",
       "      <th>place_with_parent_names</th>\n",
       "      <th>region</th>\n",
       "      <th>lat-lon</th>\n",
       "      <th>area_m2</th>\n",
       "      <th>price_usd</th>\n",
       "    </tr>\n",
       "  </thead>\n",
       "  <tbody>\n",
       "    <tr>\n",
       "      <th>0</th>\n",
       "      <td>apartment</td>\n",
       "      <td>|Brasil|Alagoas|Maceió|</td>\n",
       "      <td>Northeast</td>\n",
       "      <td>-9.6443051,-35.7088142</td>\n",
       "      <td>110.0</td>\n",
       "      <td>$187,230.85</td>\n",
       "    </tr>\n",
       "    <tr>\n",
       "      <th>1</th>\n",
       "      <td>apartment</td>\n",
       "      <td>|Brasil|Alagoas|Maceió|</td>\n",
       "      <td>Northeast</td>\n",
       "      <td>-9.6430934,-35.70484</td>\n",
       "      <td>65.0</td>\n",
       "      <td>$81,133.37</td>\n",
       "    </tr>\n",
       "    <tr>\n",
       "      <th>2</th>\n",
       "      <td>house</td>\n",
       "      <td>|Brasil|Alagoas|Maceió|</td>\n",
       "      <td>Northeast</td>\n",
       "      <td>-9.6227033,-35.7297953</td>\n",
       "      <td>211.0</td>\n",
       "      <td>$154,465.45</td>\n",
       "    </tr>\n",
       "    <tr>\n",
       "      <th>3</th>\n",
       "      <td>apartment</td>\n",
       "      <td>|Brasil|Alagoas|Maceió|</td>\n",
       "      <td>Northeast</td>\n",
       "      <td>-9.622837,-35.719556</td>\n",
       "      <td>99.0</td>\n",
       "      <td>$146,013.20</td>\n",
       "    </tr>\n",
       "    <tr>\n",
       "      <th>4</th>\n",
       "      <td>apartment</td>\n",
       "      <td>|Brasil|Alagoas|Maceió|</td>\n",
       "      <td>Northeast</td>\n",
       "      <td>-9.654955,-35.700227</td>\n",
       "      <td>55.0</td>\n",
       "      <td>$101,416.71</td>\n",
       "    </tr>\n",
       "  </tbody>\n",
       "</table>\n",
       "</div>"
      ],
      "text/plain": [
       "  property_type  place_with_parent_names     region                 lat-lon  \\\n",
       "0     apartment  |Brasil|Alagoas|Maceió|  Northeast  -9.6443051,-35.7088142   \n",
       "1     apartment  |Brasil|Alagoas|Maceió|  Northeast    -9.6430934,-35.70484   \n",
       "2         house  |Brasil|Alagoas|Maceió|  Northeast  -9.6227033,-35.7297953   \n",
       "3     apartment  |Brasil|Alagoas|Maceió|  Northeast    -9.622837,-35.719556   \n",
       "4     apartment  |Brasil|Alagoas|Maceió|  Northeast    -9.654955,-35.700227   \n",
       "\n",
       "   area_m2    price_usd  \n",
       "0    110.0  $187,230.85  \n",
       "1     65.0   $81,133.37  \n",
       "2    211.0  $154,465.45  \n",
       "3     99.0  $146,013.20  \n",
       "4     55.0  $101,416.71  "
      ]
     },
     "execution_count": 289,
     "metadata": {},
     "output_type": "execute_result"
    }
   ],
   "source": [
    "#Inspecting the head of the data\n",
    "\n",
    "df1.head()"
   ]
  },
  {
   "cell_type": "code",
   "execution_count": 290,
   "id": "142a11c0",
   "metadata": {},
   "outputs": [
    {
     "name": "stdout",
     "output_type": "stream",
     "text": [
      "<class 'pandas.core.frame.DataFrame'>\n",
      "RangeIndex: 12834 entries, 0 to 12833\n",
      "Data columns (total 6 columns):\n",
      " #   Column                   Non-Null Count  Dtype  \n",
      "---  ------                   --------------  -----  \n",
      " 0   property_type            12834 non-null  object \n",
      " 1   place_with_parent_names  12834 non-null  object \n",
      " 2   region                   12834 non-null  object \n",
      " 3   lat-lon                  11551 non-null  object \n",
      " 4   area_m2                  12834 non-null  float64\n",
      " 5   price_usd                12834 non-null  object \n",
      "dtypes: float64(1), object(5)\n",
      "memory usage: 601.7+ KB\n"
     ]
    }
   ],
   "source": [
    "#Getting Information about the data\n",
    "\n",
    "df1.info()"
   ]
  },
  {
   "cell_type": "code",
   "execution_count": 291,
   "id": "0461abea",
   "metadata": {},
   "outputs": [
    {
     "data": {
      "text/plain": [
       "property_type                 0\n",
       "place_with_parent_names       0\n",
       "region                        0\n",
       "lat-lon                    1283\n",
       "area_m2                       0\n",
       "price_usd                     0\n",
       "dtype: int64"
      ]
     },
     "execution_count": 291,
     "metadata": {},
     "output_type": "execute_result"
    }
   ],
   "source": [
    "#check for missing values\n",
    "\n",
    "df1.isnull().sum()"
   ]
  },
  {
   "cell_type": "code",
   "execution_count": 292,
   "id": "2a98db6c",
   "metadata": {},
   "outputs": [],
   "source": [
    "# There are 1283 NaN (or missing) values in the lat-lon column\n",
    "# The missing values make up about 10% of the total data \n",
    "# Since we have 90% of values that can be anlyze, the missing values needs to be dropped\n",
    "\n",
    "df1 = df1.dropna()"
   ]
  },
  {
   "cell_type": "code",
   "execution_count": 293,
   "id": "5cda68ff",
   "metadata": {},
   "outputs": [
    {
     "data": {
      "text/html": [
       "<div>\n",
       "<style scoped>\n",
       "    .dataframe tbody tr th:only-of-type {\n",
       "        vertical-align: middle;\n",
       "    }\n",
       "\n",
       "    .dataframe tbody tr th {\n",
       "        vertical-align: top;\n",
       "    }\n",
       "\n",
       "    .dataframe thead th {\n",
       "        text-align: right;\n",
       "    }\n",
       "</style>\n",
       "<table border=\"1\" class=\"dataframe\">\n",
       "  <thead>\n",
       "    <tr style=\"text-align: right;\">\n",
       "      <th></th>\n",
       "      <th>property_type</th>\n",
       "      <th>place_with_parent_names</th>\n",
       "      <th>region</th>\n",
       "      <th>lat-lon</th>\n",
       "      <th>area_m2</th>\n",
       "      <th>price_usd</th>\n",
       "    </tr>\n",
       "  </thead>\n",
       "  <tbody>\n",
       "    <tr>\n",
       "      <th>0</th>\n",
       "      <td>apartment</td>\n",
       "      <td>|Brasil|Alagoas|Maceió|</td>\n",
       "      <td>Northeast</td>\n",
       "      <td>-9.6443051,-35.7088142</td>\n",
       "      <td>110.0</td>\n",
       "      <td>$187,230.85</td>\n",
       "    </tr>\n",
       "    <tr>\n",
       "      <th>1</th>\n",
       "      <td>apartment</td>\n",
       "      <td>|Brasil|Alagoas|Maceió|</td>\n",
       "      <td>Northeast</td>\n",
       "      <td>-9.6430934,-35.70484</td>\n",
       "      <td>65.0</td>\n",
       "      <td>$81,133.37</td>\n",
       "    </tr>\n",
       "    <tr>\n",
       "      <th>2</th>\n",
       "      <td>house</td>\n",
       "      <td>|Brasil|Alagoas|Maceió|</td>\n",
       "      <td>Northeast</td>\n",
       "      <td>-9.6227033,-35.7297953</td>\n",
       "      <td>211.0</td>\n",
       "      <td>$154,465.45</td>\n",
       "    </tr>\n",
       "    <tr>\n",
       "      <th>3</th>\n",
       "      <td>apartment</td>\n",
       "      <td>|Brasil|Alagoas|Maceió|</td>\n",
       "      <td>Northeast</td>\n",
       "      <td>-9.622837,-35.719556</td>\n",
       "      <td>99.0</td>\n",
       "      <td>$146,013.20</td>\n",
       "    </tr>\n",
       "    <tr>\n",
       "      <th>4</th>\n",
       "      <td>apartment</td>\n",
       "      <td>|Brasil|Alagoas|Maceió|</td>\n",
       "      <td>Northeast</td>\n",
       "      <td>-9.654955,-35.700227</td>\n",
       "      <td>55.0</td>\n",
       "      <td>$101,416.71</td>\n",
       "    </tr>\n",
       "  </tbody>\n",
       "</table>\n",
       "</div>"
      ],
      "text/plain": [
       "  property_type  place_with_parent_names     region                 lat-lon  \\\n",
       "0     apartment  |Brasil|Alagoas|Maceió|  Northeast  -9.6443051,-35.7088142   \n",
       "1     apartment  |Brasil|Alagoas|Maceió|  Northeast    -9.6430934,-35.70484   \n",
       "2         house  |Brasil|Alagoas|Maceió|  Northeast  -9.6227033,-35.7297953   \n",
       "3     apartment  |Brasil|Alagoas|Maceió|  Northeast    -9.622837,-35.719556   \n",
       "4     apartment  |Brasil|Alagoas|Maceió|  Northeast    -9.654955,-35.700227   \n",
       "\n",
       "   area_m2    price_usd  \n",
       "0    110.0  $187,230.85  \n",
       "1     65.0   $81,133.37  \n",
       "2    211.0  $154,465.45  \n",
       "3     99.0  $146,013.20  \n",
       "4     55.0  $101,416.71  "
      ]
     },
     "execution_count": 293,
     "metadata": {},
     "output_type": "execute_result"
    }
   ],
   "source": [
    "df1.head()"
   ]
  },
  {
   "cell_type": "code",
   "execution_count": 294,
   "id": "052b554a",
   "metadata": {},
   "outputs": [],
   "source": [
    "# Creating lat and lon columns from the lat-lon column \n",
    "\n",
    "df1[['lat', 'lon']] = df1['lat-lon'].str.split(',', expand=True)"
   ]
  },
  {
   "cell_type": "code",
   "execution_count": 295,
   "id": "6590e37e",
   "metadata": {},
   "outputs": [],
   "source": [
    "#Changing the lat and lon columns to type float\n",
    "\n",
    "df1[['lat', 'lon']] = pd.to_numeric(df1[['lat', 'lon']].stack(), errors='coerce').unstack()"
   ]
  },
  {
   "cell_type": "code",
   "execution_count": 296,
   "id": "ed2c4da3",
   "metadata": {},
   "outputs": [
    {
     "data": {
      "text/plain": [
       "property_type               object\n",
       "place_with_parent_names     object\n",
       "region                      object\n",
       "lat-lon                     object\n",
       "area_m2                    float64\n",
       "price_usd                   object\n",
       "lat                        float64\n",
       "lon                        float64\n",
       "dtype: object"
      ]
     },
     "execution_count": 296,
     "metadata": {},
     "output_type": "execute_result"
    }
   ],
   "source": [
    "#Checking to see if the data types have been converted to float\n",
    "df1.dtypes"
   ]
  },
  {
   "cell_type": "code",
   "execution_count": 297,
   "id": "c035fe8e",
   "metadata": {},
   "outputs": [],
   "source": [
    "df1['state']= df1['place_with_parent_names'].str.slice(8,)"
   ]
  },
  {
   "cell_type": "code",
   "execution_count": 298,
   "id": "6781dcdd",
   "metadata": {},
   "outputs": [
    {
     "data": {
      "text/html": [
       "<div>\n",
       "<style scoped>\n",
       "    .dataframe tbody tr th:only-of-type {\n",
       "        vertical-align: middle;\n",
       "    }\n",
       "\n",
       "    .dataframe tbody tr th {\n",
       "        vertical-align: top;\n",
       "    }\n",
       "\n",
       "    .dataframe thead th {\n",
       "        text-align: right;\n",
       "    }\n",
       "</style>\n",
       "<table border=\"1\" class=\"dataframe\">\n",
       "  <thead>\n",
       "    <tr style=\"text-align: right;\">\n",
       "      <th></th>\n",
       "      <th>property_type</th>\n",
       "      <th>place_with_parent_names</th>\n",
       "      <th>region</th>\n",
       "      <th>lat-lon</th>\n",
       "      <th>area_m2</th>\n",
       "      <th>price_usd</th>\n",
       "      <th>lat</th>\n",
       "      <th>lon</th>\n",
       "      <th>state</th>\n",
       "    </tr>\n",
       "  </thead>\n",
       "  <tbody>\n",
       "    <tr>\n",
       "      <th>0</th>\n",
       "      <td>apartment</td>\n",
       "      <td>|Brasil|Alagoas|Maceió|</td>\n",
       "      <td>Northeast</td>\n",
       "      <td>-9.6443051,-35.7088142</td>\n",
       "      <td>110.0</td>\n",
       "      <td>$187,230.85</td>\n",
       "      <td>-9.644305</td>\n",
       "      <td>-35.708814</td>\n",
       "      <td>Alagoas|Maceió|</td>\n",
       "    </tr>\n",
       "    <tr>\n",
       "      <th>1</th>\n",
       "      <td>apartment</td>\n",
       "      <td>|Brasil|Alagoas|Maceió|</td>\n",
       "      <td>Northeast</td>\n",
       "      <td>-9.6430934,-35.70484</td>\n",
       "      <td>65.0</td>\n",
       "      <td>$81,133.37</td>\n",
       "      <td>-9.643093</td>\n",
       "      <td>-35.704840</td>\n",
       "      <td>Alagoas|Maceió|</td>\n",
       "    </tr>\n",
       "    <tr>\n",
       "      <th>2</th>\n",
       "      <td>house</td>\n",
       "      <td>|Brasil|Alagoas|Maceió|</td>\n",
       "      <td>Northeast</td>\n",
       "      <td>-9.6227033,-35.7297953</td>\n",
       "      <td>211.0</td>\n",
       "      <td>$154,465.45</td>\n",
       "      <td>-9.622703</td>\n",
       "      <td>-35.729795</td>\n",
       "      <td>Alagoas|Maceió|</td>\n",
       "    </tr>\n",
       "    <tr>\n",
       "      <th>3</th>\n",
       "      <td>apartment</td>\n",
       "      <td>|Brasil|Alagoas|Maceió|</td>\n",
       "      <td>Northeast</td>\n",
       "      <td>-9.622837,-35.719556</td>\n",
       "      <td>99.0</td>\n",
       "      <td>$146,013.20</td>\n",
       "      <td>-9.622837</td>\n",
       "      <td>-35.719556</td>\n",
       "      <td>Alagoas|Maceió|</td>\n",
       "    </tr>\n",
       "    <tr>\n",
       "      <th>4</th>\n",
       "      <td>apartment</td>\n",
       "      <td>|Brasil|Alagoas|Maceió|</td>\n",
       "      <td>Northeast</td>\n",
       "      <td>-9.654955,-35.700227</td>\n",
       "      <td>55.0</td>\n",
       "      <td>$101,416.71</td>\n",
       "      <td>-9.654955</td>\n",
       "      <td>-35.700227</td>\n",
       "      <td>Alagoas|Maceió|</td>\n",
       "    </tr>\n",
       "  </tbody>\n",
       "</table>\n",
       "</div>"
      ],
      "text/plain": [
       "  property_type  place_with_parent_names     region                 lat-lon  \\\n",
       "0     apartment  |Brasil|Alagoas|Maceió|  Northeast  -9.6443051,-35.7088142   \n",
       "1     apartment  |Brasil|Alagoas|Maceió|  Northeast    -9.6430934,-35.70484   \n",
       "2         house  |Brasil|Alagoas|Maceió|  Northeast  -9.6227033,-35.7297953   \n",
       "3     apartment  |Brasil|Alagoas|Maceió|  Northeast    -9.622837,-35.719556   \n",
       "4     apartment  |Brasil|Alagoas|Maceió|  Northeast    -9.654955,-35.700227   \n",
       "\n",
       "   area_m2    price_usd       lat        lon            state  \n",
       "0    110.0  $187,230.85 -9.644305 -35.708814  Alagoas|Maceió|  \n",
       "1     65.0   $81,133.37 -9.643093 -35.704840  Alagoas|Maceió|  \n",
       "2    211.0  $154,465.45 -9.622703 -35.729795  Alagoas|Maceió|  \n",
       "3     99.0  $146,013.20 -9.622837 -35.719556  Alagoas|Maceió|  \n",
       "4     55.0  $101,416.71 -9.654955 -35.700227  Alagoas|Maceió|  "
      ]
     },
     "execution_count": 298,
     "metadata": {},
     "output_type": "execute_result"
    }
   ],
   "source": [
    "# Checking to make sure |Brasil| has been removed from state\n",
    "df1.head()"
   ]
  },
  {
   "cell_type": "code",
   "execution_count": 299,
   "id": "1288988e",
   "metadata": {},
   "outputs": [],
   "source": [
    "df1['price_usd']= df1['price_usd'].str.replace(r'\\W', '', regex=True)"
   ]
  },
  {
   "cell_type": "code",
   "execution_count": 300,
   "id": "1ceea670",
   "metadata": {},
   "outputs": [],
   "source": [
    "df1['price_usd'] = pd.to_numeric(df1['price_usd'], errors='coerce')"
   ]
  },
  {
   "cell_type": "code",
   "execution_count": 301,
   "id": "c0cb12ba",
   "metadata": {},
   "outputs": [],
   "source": [
    "# Droping `\"lat-lon\"` and `\"place_with_parent_names\"` columns from `df1`.\n",
    "\n",
    "df1 = df1.drop(['lat-lon', 'place_with_parent_names'], axis=1)"
   ]
  },
  {
   "cell_type": "code",
   "execution_count": 302,
   "id": "0b2b7fcc",
   "metadata": {},
   "outputs": [],
   "source": [
    "# Brasil_real_estate_1 raw data has been imported from its folder as a csv file\n",
    "# It has 12834 rows and and 6 columns\n",
    "# Getting info of the data shows that there are sum missing values in the 'lat-lon' column\n",
    "# The 'lat-lon' column data was handled by dropping the missing values,since 90% of non-missing values can be used for the analysis\n",
    "# The 'lat-lon' column was used to create the lat and lon columns and the object data for the two columns converted to float.\n",
    "# A 'state' column was created from the 'place_with_parent_names' by string slicing\n",
    "# The 'price_usd' column of 'df1' was converted to floating point numbers\n",
    "# The 'lat-lon' and 'place_with_parent_ names' were dropped from the dataframe\n",
    "# The data frame now has 11551 rows instead of 12834 and 7 columns instead of 7.\n",
    "# The  'area_m2', 'price_usd', 'lat' and 'lon' contain floating point values which can be used for analysis."
   ]
  },
  {
   "cell_type": "code",
   "execution_count": 303,
   "id": "b57c2190",
   "metadata": {},
   "outputs": [],
   "source": [
    "df2=pd.read_csv('/Users/himms/Desktop/GSRA DS project/brasil-real-estate-2.csv')"
   ]
  },
  {
   "cell_type": "code",
   "execution_count": 304,
   "id": "d6b2d6d9",
   "metadata": {},
   "outputs": [
    {
     "data": {
      "text/html": [
       "<div>\n",
       "<style scoped>\n",
       "    .dataframe tbody tr th:only-of-type {\n",
       "        vertical-align: middle;\n",
       "    }\n",
       "\n",
       "    .dataframe tbody tr th {\n",
       "        vertical-align: top;\n",
       "    }\n",
       "\n",
       "    .dataframe thead th {\n",
       "        text-align: right;\n",
       "    }\n",
       "</style>\n",
       "<table border=\"1\" class=\"dataframe\">\n",
       "  <thead>\n",
       "    <tr style=\"text-align: right;\">\n",
       "      <th></th>\n",
       "      <th>property_type</th>\n",
       "      <th>state</th>\n",
       "      <th>region</th>\n",
       "      <th>lat</th>\n",
       "      <th>lon</th>\n",
       "      <th>area_m2</th>\n",
       "      <th>price_brl</th>\n",
       "    </tr>\n",
       "  </thead>\n",
       "  <tbody>\n",
       "    <tr>\n",
       "      <th>0</th>\n",
       "      <td>apartment</td>\n",
       "      <td>Pernambuco</td>\n",
       "      <td>Northeast</td>\n",
       "      <td>-8.134204</td>\n",
       "      <td>-34.906326</td>\n",
       "      <td>72.0</td>\n",
       "      <td>414222.98</td>\n",
       "    </tr>\n",
       "    <tr>\n",
       "      <th>1</th>\n",
       "      <td>apartment</td>\n",
       "      <td>Pernambuco</td>\n",
       "      <td>Northeast</td>\n",
       "      <td>-8.126664</td>\n",
       "      <td>-34.903924</td>\n",
       "      <td>136.0</td>\n",
       "      <td>848408.53</td>\n",
       "    </tr>\n",
       "    <tr>\n",
       "      <th>2</th>\n",
       "      <td>apartment</td>\n",
       "      <td>Pernambuco</td>\n",
       "      <td>Northeast</td>\n",
       "      <td>-8.125550</td>\n",
       "      <td>-34.907601</td>\n",
       "      <td>75.0</td>\n",
       "      <td>299438.28</td>\n",
       "    </tr>\n",
       "    <tr>\n",
       "      <th>3</th>\n",
       "      <td>apartment</td>\n",
       "      <td>Pernambuco</td>\n",
       "      <td>Northeast</td>\n",
       "      <td>-8.120249</td>\n",
       "      <td>-34.895920</td>\n",
       "      <td>187.0</td>\n",
       "      <td>848408.53</td>\n",
       "    </tr>\n",
       "    <tr>\n",
       "      <th>4</th>\n",
       "      <td>apartment</td>\n",
       "      <td>Pernambuco</td>\n",
       "      <td>Northeast</td>\n",
       "      <td>-8.142666</td>\n",
       "      <td>-34.906906</td>\n",
       "      <td>80.0</td>\n",
       "      <td>464129.36</td>\n",
       "    </tr>\n",
       "  </tbody>\n",
       "</table>\n",
       "</div>"
      ],
      "text/plain": [
       "  property_type       state     region       lat        lon  area_m2  \\\n",
       "0     apartment  Pernambuco  Northeast -8.134204 -34.906326     72.0   \n",
       "1     apartment  Pernambuco  Northeast -8.126664 -34.903924    136.0   \n",
       "2     apartment  Pernambuco  Northeast -8.125550 -34.907601     75.0   \n",
       "3     apartment  Pernambuco  Northeast -8.120249 -34.895920    187.0   \n",
       "4     apartment  Pernambuco  Northeast -8.142666 -34.906906     80.0   \n",
       "\n",
       "   price_brl  \n",
       "0  414222.98  \n",
       "1  848408.53  \n",
       "2  299438.28  \n",
       "3  848408.53  \n",
       "4  464129.36  "
      ]
     },
     "execution_count": 304,
     "metadata": {},
     "output_type": "execute_result"
    }
   ],
   "source": [
    "df2.head()"
   ]
  },
  {
   "cell_type": "code",
   "execution_count": 305,
   "id": "11e1be41",
   "metadata": {},
   "outputs": [],
   "source": [
    "# From the head data of df2, it can be seen all the columns have the same name with df1 except for price_brl  "
   ]
  },
  {
   "cell_type": "code",
   "execution_count": 306,
   "id": "11ad7a36",
   "metadata": {},
   "outputs": [
    {
     "name": "stdout",
     "output_type": "stream",
     "text": [
      "<class 'pandas.core.frame.DataFrame'>\n",
      "RangeIndex: 12833 entries, 0 to 12832\n",
      "Data columns (total 7 columns):\n",
      " #   Column         Non-Null Count  Dtype  \n",
      "---  ------         --------------  -----  \n",
      " 0   property_type  12833 non-null  object \n",
      " 1   state          12833 non-null  object \n",
      " 2   region         12833 non-null  object \n",
      " 3   lat            12833 non-null  float64\n",
      " 4   lon            12833 non-null  float64\n",
      " 5   area_m2        11293 non-null  float64\n",
      " 6   price_brl      12833 non-null  float64\n",
      "dtypes: float64(4), object(3)\n",
      "memory usage: 701.9+ KB\n"
     ]
    }
   ],
   "source": [
    "# Getting info of df2 and checking to see if there are missing values\n",
    "df2.info()"
   ]
  },
  {
   "cell_type": "code",
   "execution_count": 307,
   "id": "d7cecd2e",
   "metadata": {},
   "outputs": [
    {
     "data": {
      "text/plain": [
       "property_type       0\n",
       "state               0\n",
       "region              0\n",
       "lat                 0\n",
       "lon                 0\n",
       "area_m2          1540\n",
       "price_brl           0\n",
       "dtype: int64"
      ]
     },
     "execution_count": 307,
     "metadata": {},
     "output_type": "execute_result"
    }
   ],
   "source": [
    "#Checking to see number of missing values\n",
    "df2.isnull().sum()"
   ]
  },
  {
   "cell_type": "code",
   "execution_count": 308,
   "id": "fbbde543",
   "metadata": {},
   "outputs": [],
   "source": [
    "# Creating 'price_usd' column from 'price_brl' column\n",
    "\n",
    "df2['price_usd'] = df2['price_brl'].div(3.19).round(2)"
   ]
  },
  {
   "cell_type": "code",
   "execution_count": 309,
   "id": "7a7caa04",
   "metadata": {},
   "outputs": [
    {
     "data": {
      "text/html": [
       "<div>\n",
       "<style scoped>\n",
       "    .dataframe tbody tr th:only-of-type {\n",
       "        vertical-align: middle;\n",
       "    }\n",
       "\n",
       "    .dataframe tbody tr th {\n",
       "        vertical-align: top;\n",
       "    }\n",
       "\n",
       "    .dataframe thead th {\n",
       "        text-align: right;\n",
       "    }\n",
       "</style>\n",
       "<table border=\"1\" class=\"dataframe\">\n",
       "  <thead>\n",
       "    <tr style=\"text-align: right;\">\n",
       "      <th></th>\n",
       "      <th>property_type</th>\n",
       "      <th>state</th>\n",
       "      <th>region</th>\n",
       "      <th>lat</th>\n",
       "      <th>lon</th>\n",
       "      <th>area_m2</th>\n",
       "      <th>price_brl</th>\n",
       "      <th>price_usd</th>\n",
       "    </tr>\n",
       "  </thead>\n",
       "  <tbody>\n",
       "    <tr>\n",
       "      <th>0</th>\n",
       "      <td>apartment</td>\n",
       "      <td>Pernambuco</td>\n",
       "      <td>Northeast</td>\n",
       "      <td>-8.134204</td>\n",
       "      <td>-34.906326</td>\n",
       "      <td>72.0</td>\n",
       "      <td>414222.98</td>\n",
       "      <td>129850.46</td>\n",
       "    </tr>\n",
       "    <tr>\n",
       "      <th>1</th>\n",
       "      <td>apartment</td>\n",
       "      <td>Pernambuco</td>\n",
       "      <td>Northeast</td>\n",
       "      <td>-8.126664</td>\n",
       "      <td>-34.903924</td>\n",
       "      <td>136.0</td>\n",
       "      <td>848408.53</td>\n",
       "      <td>265958.79</td>\n",
       "    </tr>\n",
       "    <tr>\n",
       "      <th>2</th>\n",
       "      <td>apartment</td>\n",
       "      <td>Pernambuco</td>\n",
       "      <td>Northeast</td>\n",
       "      <td>-8.125550</td>\n",
       "      <td>-34.907601</td>\n",
       "      <td>75.0</td>\n",
       "      <td>299438.28</td>\n",
       "      <td>93867.80</td>\n",
       "    </tr>\n",
       "    <tr>\n",
       "      <th>3</th>\n",
       "      <td>apartment</td>\n",
       "      <td>Pernambuco</td>\n",
       "      <td>Northeast</td>\n",
       "      <td>-8.120249</td>\n",
       "      <td>-34.895920</td>\n",
       "      <td>187.0</td>\n",
       "      <td>848408.53</td>\n",
       "      <td>265958.79</td>\n",
       "    </tr>\n",
       "    <tr>\n",
       "      <th>4</th>\n",
       "      <td>apartment</td>\n",
       "      <td>Pernambuco</td>\n",
       "      <td>Northeast</td>\n",
       "      <td>-8.142666</td>\n",
       "      <td>-34.906906</td>\n",
       "      <td>80.0</td>\n",
       "      <td>464129.36</td>\n",
       "      <td>145495.10</td>\n",
       "    </tr>\n",
       "  </tbody>\n",
       "</table>\n",
       "</div>"
      ],
      "text/plain": [
       "  property_type       state     region       lat        lon  area_m2  \\\n",
       "0     apartment  Pernambuco  Northeast -8.134204 -34.906326     72.0   \n",
       "1     apartment  Pernambuco  Northeast -8.126664 -34.903924    136.0   \n",
       "2     apartment  Pernambuco  Northeast -8.125550 -34.907601     75.0   \n",
       "3     apartment  Pernambuco  Northeast -8.120249 -34.895920    187.0   \n",
       "4     apartment  Pernambuco  Northeast -8.142666 -34.906906     80.0   \n",
       "\n",
       "   price_brl  price_usd  \n",
       "0  414222.98  129850.46  \n",
       "1  848408.53  265958.79  \n",
       "2  299438.28   93867.80  \n",
       "3  848408.53  265958.79  \n",
       "4  464129.36  145495.10  "
      ]
     },
     "execution_count": 309,
     "metadata": {},
     "output_type": "execute_result"
    }
   ],
   "source": [
    "df2.head()"
   ]
  },
  {
   "cell_type": "code",
   "execution_count": 310,
   "id": "c965fd94",
   "metadata": {},
   "outputs": [],
   "source": [
    "df2 = df2.drop(['price_brl'], axis=1)"
   ]
  },
  {
   "cell_type": "code",
   "execution_count": 311,
   "id": "b87cd9b9",
   "metadata": {},
   "outputs": [],
   "source": [
    "df2 = df2.dropna()"
   ]
  },
  {
   "cell_type": "code",
   "execution_count": 312,
   "id": "c94a3c10",
   "metadata": {},
   "outputs": [
    {
     "name": "stdout",
     "output_type": "stream",
     "text": [
      "<class 'pandas.core.frame.DataFrame'>\n",
      "Int64Index: 11293 entries, 0 to 12832\n",
      "Data columns (total 7 columns):\n",
      " #   Column         Non-Null Count  Dtype  \n",
      "---  ------         --------------  -----  \n",
      " 0   property_type  11293 non-null  object \n",
      " 1   state          11293 non-null  object \n",
      " 2   region         11293 non-null  object \n",
      " 3   lat            11293 non-null  float64\n",
      " 4   lon            11293 non-null  float64\n",
      " 5   area_m2        11293 non-null  float64\n",
      " 6   price_usd      11293 non-null  float64\n",
      "dtypes: float64(4), object(3)\n",
      "memory usage: 705.8+ KB\n"
     ]
    }
   ],
   "source": [
    "df2.info()"
   ]
  },
  {
   "cell_type": "code",
   "execution_count": 313,
   "id": "fe90cacb",
   "metadata": {},
   "outputs": [],
   "source": [
    "#Concatinating df1 and df2 to df\n",
    "\n",
    "df = pd.concat([df1,df2], axis=0, ignore_index=True)"
   ]
  },
  {
   "cell_type": "code",
   "execution_count": 314,
   "id": "f7e78cb8",
   "metadata": {},
   "outputs": [
    {
     "name": "stdout",
     "output_type": "stream",
     "text": [
      "<class 'pandas.core.frame.DataFrame'>\n",
      "RangeIndex: 22844 entries, 0 to 22843\n",
      "Data columns (total 7 columns):\n",
      " #   Column         Non-Null Count  Dtype  \n",
      "---  ------         --------------  -----  \n",
      " 0   property_type  22844 non-null  object \n",
      " 1   region         22844 non-null  object \n",
      " 2   area_m2        22844 non-null  float64\n",
      " 3   price_usd      22844 non-null  float64\n",
      " 4   lat            22844 non-null  float64\n",
      " 5   lon            22844 non-null  float64\n",
      " 6   state          22844 non-null  object \n",
      "dtypes: float64(4), object(3)\n",
      "memory usage: 1.2+ MB\n"
     ]
    }
   ],
   "source": [
    "df.info()"
   ]
  },
  {
   "cell_type": "code",
   "execution_count": 315,
   "id": "484b54fa",
   "metadata": {},
   "outputs": [],
   "source": [
    "#Getting the summary statistics of 'area_m2' and 'price_usd'\n",
    "\n",
    "summary_stats = df[[\"area_m2\",\"price_usd\"]].describe()"
   ]
  },
  {
   "cell_type": "code",
   "execution_count": 316,
   "id": "9b67480a",
   "metadata": {},
   "outputs": [
    {
     "data": {
      "text/html": [
       "<div>\n",
       "<style scoped>\n",
       "    .dataframe tbody tr th:only-of-type {\n",
       "        vertical-align: middle;\n",
       "    }\n",
       "\n",
       "    .dataframe tbody tr th {\n",
       "        vertical-align: top;\n",
       "    }\n",
       "\n",
       "    .dataframe thead th {\n",
       "        text-align: right;\n",
       "    }\n",
       "</style>\n",
       "<table border=\"1\" class=\"dataframe\">\n",
       "  <thead>\n",
       "    <tr style=\"text-align: right;\">\n",
       "      <th></th>\n",
       "      <th>area_m2</th>\n",
       "      <th>price_usd</th>\n",
       "    </tr>\n",
       "  </thead>\n",
       "  <tbody>\n",
       "    <tr>\n",
       "      <th>count</th>\n",
       "      <td>22844.000000</td>\n",
       "      <td>2.284400e+04</td>\n",
       "    </tr>\n",
       "    <tr>\n",
       "      <th>mean</th>\n",
       "      <td>115.020224</td>\n",
       "      <td>9.297887e+06</td>\n",
       "    </tr>\n",
       "    <tr>\n",
       "      <th>std</th>\n",
       "      <td>47.742932</td>\n",
       "      <td>1.131233e+07</td>\n",
       "    </tr>\n",
       "    <tr>\n",
       "      <th>min</th>\n",
       "      <td>53.000000</td>\n",
       "      <td>7.509424e+04</td>\n",
       "    </tr>\n",
       "    <tr>\n",
       "      <th>25%</th>\n",
       "      <td>76.000000</td>\n",
       "      <td>1.814778e+05</td>\n",
       "    </tr>\n",
       "    <tr>\n",
       "      <th>50%</th>\n",
       "      <td>103.000000</td>\n",
       "      <td>7.645259e+06</td>\n",
       "    </tr>\n",
       "    <tr>\n",
       "      <th>75%</th>\n",
       "      <td>142.000000</td>\n",
       "      <td>1.544654e+07</td>\n",
       "    </tr>\n",
       "    <tr>\n",
       "      <th>max</th>\n",
       "      <td>252.000000</td>\n",
       "      <td>5.242464e+07</td>\n",
       "    </tr>\n",
       "  </tbody>\n",
       "</table>\n",
       "</div>"
      ],
      "text/plain": [
       "            area_m2     price_usd\n",
       "count  22844.000000  2.284400e+04\n",
       "mean     115.020224  9.297887e+06\n",
       "std       47.742932  1.131233e+07\n",
       "min       53.000000  7.509424e+04\n",
       "25%       76.000000  1.814778e+05\n",
       "50%      103.000000  7.645259e+06\n",
       "75%      142.000000  1.544654e+07\n",
       "max      252.000000  5.242464e+07"
      ]
     },
     "execution_count": 316,
     "metadata": {},
     "output_type": "execute_result"
    }
   ],
   "source": [
    "summary_stats"
   ]
  },
  {
   "cell_type": "code",
   "execution_count": 317,
   "id": "0e2e780d",
   "metadata": {},
   "outputs": [],
   "source": [
    "# Creating a Histogram for Distribution of Home Prices "
   ]
  },
  {
   "cell_type": "code",
   "execution_count": 318,
   "id": "9f0e2b8e",
   "metadata": {},
   "outputs": [
    {
     "data": {
      "image/png": "[encoded data removed]",
      "text/plain": [
       "<Figure size 864x576 with 1 Axes>"
      ]
     },
     "metadata": {
      "needs_background": "light"
     },
     "output_type": "display_data"
    }
   ],
   "source": [
    "df['price_usd'].plot(kind='hist',\n",
    "        \n",
    "        title='Distribution of Home Prices',\n",
    "        rot=0,\n",
    "        grid=True,\n",
    "        figsize=(12,8),\n",
    "        fontsize=15, \n",
    "         orientation='horizontal',\n",
    "        )\n",
    "plt.xlabel('Price [USD]')\n",
    "plt.ylabel(\"Frequency\");"
   ]
  },
  {
   "cell_type": "code",
   "execution_count": 319,
   "id": "4725fc86",
   "metadata": {},
   "outputs": [
    {
     "data": {
      "text/plain": [
       "Text(0.5, 1.0, 'Distribution of Home Sizes')"
      ]
     },
     "execution_count": 319,
     "metadata": {},
     "output_type": "execute_result"
    },
    {
     "data": {
      "image/png": "[encoded data removed]",
      "text/plain": [
       "<Figure size 432x288 with 1 Axes>"
      ]
     },
     "metadata": {
      "needs_background": "light"
     },
     "output_type": "display_data"
    }
   ],
   "source": [
    "# Boxplot of  Distribution of Home Sizes\n",
    "\n",
    "plt.boxplot(df['area_m2'], vert=False)\n",
    "plt.xlabel('Area [sq meters]')\n",
    "\n",
    "plt.title('Distribution of Home Sizes')"
   ]
  },
  {
   "cell_type": "code",
   "execution_count": 320,
   "id": "09bed71a",
   "metadata": {},
   "outputs": [],
   "source": [
    "# Mean price by Region\n",
    "\n",
    "mean_price_by_region = df.groupby('region')['price_usd'].mean().sort_values(ascending=True) "
   ]
  },
  {
   "cell_type": "code",
   "execution_count": 321,
   "id": "306c198a",
   "metadata": {},
   "outputs": [
    {
     "data": {
      "text/plain": [
       "region\n",
       "South           5.475665e+06\n",
       "Southeast       7.408164e+06\n",
       "Northeast       1.586405e+07\n",
       "Central-West    1.785963e+07\n",
       "North           1.792336e+07\n",
       "Name: price_usd, dtype: float64"
      ]
     },
     "execution_count": 321,
     "metadata": {},
     "output_type": "execute_result"
    }
   ],
   "source": [
    "mean_price_by_region"
   ]
  },
  {
   "cell_type": "code",
   "execution_count": 322,
   "id": "4918ad78",
   "metadata": {},
   "outputs": [
    {
     "data": {
      "image/png": "[encoded data removed]",
      "text/plain": [
       "<Figure size 432x288 with 1 Axes>"
      ]
     },
     "metadata": {
      "needs_background": "light"
     },
     "output_type": "display_data"
    }
   ],
   "source": [
    "#Bar chart of mean price by region\n",
    "\n",
    "mean_price_by_region.plot.bar(x='region', y='price_usd', rot=0, )\n",
    "plt.title('Mean Home Price by Region')\n",
    "plt.xlabel('Region')\n",
    "plt.ylabel('Mean Price [USD]');"
   ]
  },
  {
   "cell_type": "code",
   "execution_count": 323,
   "id": "473013bc",
   "metadata": {},
   "outputs": [],
   "source": [
    "#Creating dataframe 'df_south' that contains all the homes from the 'South'"
   ]
  },
  {
   "cell_type": "code",
   "execution_count": 324,
   "id": "ef3eea63",
   "metadata": {},
   "outputs": [],
   "source": [
    "df_south = df.loc[df['region'] == 'South']"
   ]
  },
  {
   "cell_type": "code",
   "execution_count": 325,
   "id": "a76f61fa",
   "metadata": {},
   "outputs": [
    {
     "data": {
      "text/html": [
       "<div>\n",
       "<style scoped>\n",
       "    .dataframe tbody tr th:only-of-type {\n",
       "        vertical-align: middle;\n",
       "    }\n",
       "\n",
       "    .dataframe tbody tr th {\n",
       "        vertical-align: top;\n",
       "    }\n",
       "\n",
       "    .dataframe thead th {\n",
       "        text-align: right;\n",
       "    }\n",
       "</style>\n",
       "<table border=\"1\" class=\"dataframe\">\n",
       "  <thead>\n",
       "    <tr style=\"text-align: right;\">\n",
       "      <th></th>\n",
       "      <th>property_type</th>\n",
       "      <th>region</th>\n",
       "      <th>area_m2</th>\n",
       "      <th>price_usd</th>\n",
       "      <th>lat</th>\n",
       "      <th>lon</th>\n",
       "      <th>state</th>\n",
       "    </tr>\n",
       "  </thead>\n",
       "  <tbody>\n",
       "    <tr>\n",
       "      <th>8370</th>\n",
       "      <td>apartment</td>\n",
       "      <td>South</td>\n",
       "      <td>127.0</td>\n",
       "      <td>29644885.0</td>\n",
       "      <td>-25.455704</td>\n",
       "      <td>-49.292918</td>\n",
       "      <td>Paraná|Curitiba|Vila Izabel|</td>\n",
       "    </tr>\n",
       "    <tr>\n",
       "      <th>8371</th>\n",
       "      <td>apartment</td>\n",
       "      <td>South</td>\n",
       "      <td>104.0</td>\n",
       "      <td>21999625.0</td>\n",
       "      <td>-25.455704</td>\n",
       "      <td>-49.292918</td>\n",
       "      <td>Paraná|Curitiba|Vila Izabel|</td>\n",
       "    </tr>\n",
       "    <tr>\n",
       "      <th>8372</th>\n",
       "      <td>apartment</td>\n",
       "      <td>South</td>\n",
       "      <td>100.0</td>\n",
       "      <td>19421050.0</td>\n",
       "      <td>-25.460236</td>\n",
       "      <td>-49.293812</td>\n",
       "      <td>Paraná|Curitiba|Vila Izabel|</td>\n",
       "    </tr>\n",
       "    <tr>\n",
       "      <th>8373</th>\n",
       "      <td>apartment</td>\n",
       "      <td>South</td>\n",
       "      <td>77.0</td>\n",
       "      <td>14925294.0</td>\n",
       "      <td>-25.460236</td>\n",
       "      <td>-49.293812</td>\n",
       "      <td>Paraná|Curitiba|Vila Izabel|</td>\n",
       "    </tr>\n",
       "    <tr>\n",
       "      <th>8374</th>\n",
       "      <td>apartment</td>\n",
       "      <td>South</td>\n",
       "      <td>73.0</td>\n",
       "      <td>14416775.0</td>\n",
       "      <td>-25.460236</td>\n",
       "      <td>-49.293812</td>\n",
       "      <td>Paraná|Curitiba|Vila Izabel|</td>\n",
       "    </tr>\n",
       "  </tbody>\n",
       "</table>\n",
       "</div>"
      ],
      "text/plain": [
       "     property_type region  area_m2   price_usd        lat        lon  \\\n",
       "8370     apartment  South    127.0  29644885.0 -25.455704 -49.292918   \n",
       "8371     apartment  South    104.0  21999625.0 -25.455704 -49.292918   \n",
       "8372     apartment  South    100.0  19421050.0 -25.460236 -49.293812   \n",
       "8373     apartment  South     77.0  14925294.0 -25.460236 -49.293812   \n",
       "8374     apartment  South     73.0  14416775.0 -25.460236 -49.293812   \n",
       "\n",
       "                             state  \n",
       "8370  Paraná|Curitiba|Vila Izabel|  \n",
       "8371  Paraná|Curitiba|Vila Izabel|  \n",
       "8372  Paraná|Curitiba|Vila Izabel|  \n",
       "8373  Paraná|Curitiba|Vila Izabel|  \n",
       "8374  Paraná|Curitiba|Vila Izabel|  "
      ]
     },
     "execution_count": 325,
     "metadata": {},
     "output_type": "execute_result"
    }
   ],
   "source": [
    "df_south.head()"
   ]
  },
  {
   "cell_type": "code",
   "execution_count": 326,
   "id": "05c73332",
   "metadata": {},
   "outputs": [
    {
     "name": "stdout",
     "output_type": "stream",
     "text": [
      "<class 'pandas.core.frame.DataFrame'>\n",
      "Int64Index: 7821 entries, 8370 to 20118\n",
      "Data columns (total 7 columns):\n",
      " #   Column         Non-Null Count  Dtype  \n",
      "---  ------         --------------  -----  \n",
      " 0   property_type  7821 non-null   object \n",
      " 1   region         7821 non-null   object \n",
      " 2   area_m2        7821 non-null   float64\n",
      " 3   price_usd      7821 non-null   float64\n",
      " 4   lat            7821 non-null   float64\n",
      " 5   lon            7821 non-null   float64\n",
      " 6   state          7821 non-null   object \n",
      "dtypes: float64(4), object(3)\n",
      "memory usage: 488.8+ KB\n"
     ]
    }
   ],
   "source": [
    "df_south.info()"
   ]
  },
  {
   "cell_type": "code",
   "execution_count": 327,
   "id": "fd82aa2e",
   "metadata": {},
   "outputs": [],
   "source": [
    "# create a Series `homes_by_state`\n",
    "\n",
    "homes_by_state = df_south.groupby('state')['property_type'].count()"
   ]
  },
  {
   "cell_type": "code",
   "execution_count": 328,
   "id": "03505847",
   "metadata": {},
   "outputs": [
    {
     "data": {
      "text/plain": [
       "state\n",
       "Rio Grande do Sul              2643\n",
       "Santa Catarina                 2634\n",
       "Paraná|Londrina|                730\n",
       "Paraná|Curitiba|Água Verde|     207\n",
       "Paraná|Curitiba|                135\n",
       "                               ... \n",
       "Paraná|Campo Largo|               1\n",
       "Paraná|Piraquara|                 1\n",
       "Paraná|Curitiba|Umbará|           1\n",
       "Paraná|Colombo|Roça Grande|       1\n",
       "Paraná|Cascavel|Centro|           1\n",
       "Name: property_type, Length: 106, dtype: int64"
      ]
     },
     "execution_count": 328,
     "metadata": {},
     "output_type": "execute_result"
    }
   ],
   "source": [
    "homes_by_state.sort_values(ascending=False)"
   ]
  },
  {
   "cell_type": "code",
   "execution_count": 344,
   "id": "32d72bc7",
   "metadata": {},
   "outputs": [],
   "source": [
    "sum_parana = df_south.loc[df_south['state'].str.contains('paran', case=False) ]"
   ]
  },
  {
   "cell_type": "code",
   "execution_count": 345,
   "id": "cdccb598",
   "metadata": {},
   "outputs": [
    {
     "name": "stdout",
     "output_type": "stream",
     "text": [
      "<class 'pandas.core.frame.DataFrame'>\n",
      "Int64Index: 2544 entries, 8370 to 10913\n",
      "Data columns (total 7 columns):\n",
      " #   Column         Non-Null Count  Dtype  \n",
      "---  ------         --------------  -----  \n",
      " 0   property_type  2544 non-null   object \n",
      " 1   region         2544 non-null   object \n",
      " 2   area_m2        2544 non-null   float64\n",
      " 3   price_usd      2544 non-null   float64\n",
      " 4   lat            2544 non-null   float64\n",
      " 5   lon            2544 non-null   float64\n",
      " 6   state          2544 non-null   object \n",
      "dtypes: float64(4), object(3)\n",
      "memory usage: 159.0+ KB\n"
     ]
    }
   ],
   "source": [
    "sum_parana.info()"
   ]
  },
  {
   "cell_type": "code",
   "execution_count": 331,
   "id": "4dc225d6",
   "metadata": {},
   "outputs": [],
   "source": [
    "#Creating state with the largest number of properties\n",
    "\n",
    "largest_property_state = df_south.loc[df_south['state'] == 'Rio Grande do Sul']"
   ]
  },
  {
   "cell_type": "code",
   "execution_count": 332,
   "id": "83342ba0",
   "metadata": {},
   "outputs": [
    {
     "data": {
      "text/html": [
       "<div>\n",
       "<style scoped>\n",
       "    .dataframe tbody tr th:only-of-type {\n",
       "        vertical-align: middle;\n",
       "    }\n",
       "\n",
       "    .dataframe tbody tr th {\n",
       "        vertical-align: top;\n",
       "    }\n",
       "\n",
       "    .dataframe thead th {\n",
       "        text-align: right;\n",
       "    }\n",
       "</style>\n",
       "<table border=\"1\" class=\"dataframe\">\n",
       "  <thead>\n",
       "    <tr style=\"text-align: right;\">\n",
       "      <th></th>\n",
       "      <th>property_type</th>\n",
       "      <th>region</th>\n",
       "      <th>area_m2</th>\n",
       "      <th>price_usd</th>\n",
       "      <th>lat</th>\n",
       "      <th>lon</th>\n",
       "      <th>state</th>\n",
       "    </tr>\n",
       "  </thead>\n",
       "  <tbody>\n",
       "    <tr>\n",
       "      <th>12195</th>\n",
       "      <td>house</td>\n",
       "      <td>South</td>\n",
       "      <td>188.0</td>\n",
       "      <td>115770.29</td>\n",
       "      <td>-30.027105</td>\n",
       "      <td>-51.130470</td>\n",
       "      <td>Rio Grande do Sul</td>\n",
       "    </tr>\n",
       "    <tr>\n",
       "      <th>12196</th>\n",
       "      <td>apartment</td>\n",
       "      <td>South</td>\n",
       "      <td>65.0</td>\n",
       "      <td>123430.14</td>\n",
       "      <td>-30.039816</td>\n",
       "      <td>-51.223164</td>\n",
       "      <td>Rio Grande do Sul</td>\n",
       "    </tr>\n",
       "    <tr>\n",
       "      <th>12197</th>\n",
       "      <td>apartment</td>\n",
       "      <td>South</td>\n",
       "      <td>142.0</td>\n",
       "      <td>185145.22</td>\n",
       "      <td>-29.696850</td>\n",
       "      <td>-53.858382</td>\n",
       "      <td>Rio Grande do Sul</td>\n",
       "    </tr>\n",
       "    <tr>\n",
       "      <th>12198</th>\n",
       "      <td>apartment</td>\n",
       "      <td>South</td>\n",
       "      <td>151.0</td>\n",
       "      <td>256572.00</td>\n",
       "      <td>-30.033820</td>\n",
       "      <td>-51.198596</td>\n",
       "      <td>Rio Grande do Sul</td>\n",
       "    </tr>\n",
       "    <tr>\n",
       "      <th>12199</th>\n",
       "      <td>apartment</td>\n",
       "      <td>South</td>\n",
       "      <td>68.0</td>\n",
       "      <td>75957.01</td>\n",
       "      <td>-30.034061</td>\n",
       "      <td>-51.135494</td>\n",
       "      <td>Rio Grande do Sul</td>\n",
       "    </tr>\n",
       "  </tbody>\n",
       "</table>\n",
       "</div>"
      ],
      "text/plain": [
       "      property_type region  area_m2  price_usd        lat        lon  \\\n",
       "12195         house  South    188.0  115770.29 -30.027105 -51.130470   \n",
       "12196     apartment  South     65.0  123430.14 -30.039816 -51.223164   \n",
       "12197     apartment  South    142.0  185145.22 -29.696850 -53.858382   \n",
       "12198     apartment  South    151.0  256572.00 -30.033820 -51.198596   \n",
       "12199     apartment  South     68.0   75957.01 -30.034061 -51.135494   \n",
       "\n",
       "                   state  \n",
       "12195  Rio Grande do Sul  \n",
       "12196  Rio Grande do Sul  \n",
       "12197  Rio Grande do Sul  \n",
       "12198  Rio Grande do Sul  \n",
       "12199  Rio Grande do Sul  "
      ]
     },
     "execution_count": 332,
     "metadata": {},
     "output_type": "execute_result"
    }
   ],
   "source": [
    "largest_property_state.head()"
   ]
  },
  {
   "cell_type": "code",
   "execution_count": 333,
   "id": "01f25066",
   "metadata": {},
   "outputs": [
    {
     "data": {
      "image/png": "[encoded data removed]",
      "text/plain": [
       "<Figure size 432x288 with 1 Axes>"
      ]
     },
     "metadata": {
      "needs_background": "light"
     },
     "output_type": "display_data"
    }
   ],
   "source": [
    "# Creating scatter plot for The state with the largest number of properties in the south\n",
    "\n",
    "largest_property_state.plot.scatter(x='area_m2', y='price_usd', rot=0, )\n",
    "plt.title('Rio Grande do Sul : Price vs Area')\n",
    "plt.xlabel('Area [sq meters]')\n",
    "plt.ylabel('Price [USD]');"
   ]
  },
  {
   "cell_type": "code",
   "execution_count": 334,
   "id": "7986da5f",
   "metadata": {},
   "outputs": [],
   "source": [
    "# Creating dictionary for south states correlation\n",
    "\n",
    "rio = df_south.loc[df_south['state'] == 'Rio Grande do Sul']"
   ]
  },
  {
   "cell_type": "code",
   "execution_count": 335,
   "id": "a8d55c88",
   "metadata": {},
   "outputs": [
    {
     "data": {
      "text/html": [
       "<div>\n",
       "<style scoped>\n",
       "    .dataframe tbody tr th:only-of-type {\n",
       "        vertical-align: middle;\n",
       "    }\n",
       "\n",
       "    .dataframe tbody tr th {\n",
       "        vertical-align: top;\n",
       "    }\n",
       "\n",
       "    .dataframe thead th {\n",
       "        text-align: right;\n",
       "    }\n",
       "</style>\n",
       "<table border=\"1\" class=\"dataframe\">\n",
       "  <thead>\n",
       "    <tr style=\"text-align: right;\">\n",
       "      <th></th>\n",
       "      <th>property_type</th>\n",
       "      <th>region</th>\n",
       "      <th>area_m2</th>\n",
       "      <th>price_usd</th>\n",
       "      <th>lat</th>\n",
       "      <th>lon</th>\n",
       "      <th>state</th>\n",
       "    </tr>\n",
       "  </thead>\n",
       "  <tbody>\n",
       "    <tr>\n",
       "      <th>12195</th>\n",
       "      <td>house</td>\n",
       "      <td>South</td>\n",
       "      <td>188.0</td>\n",
       "      <td>115770.29</td>\n",
       "      <td>-30.027105</td>\n",
       "      <td>-51.130470</td>\n",
       "      <td>Rio Grande do Sul</td>\n",
       "    </tr>\n",
       "    <tr>\n",
       "      <th>12196</th>\n",
       "      <td>apartment</td>\n",
       "      <td>South</td>\n",
       "      <td>65.0</td>\n",
       "      <td>123430.14</td>\n",
       "      <td>-30.039816</td>\n",
       "      <td>-51.223164</td>\n",
       "      <td>Rio Grande do Sul</td>\n",
       "    </tr>\n",
       "    <tr>\n",
       "      <th>12197</th>\n",
       "      <td>apartment</td>\n",
       "      <td>South</td>\n",
       "      <td>142.0</td>\n",
       "      <td>185145.22</td>\n",
       "      <td>-29.696850</td>\n",
       "      <td>-53.858382</td>\n",
       "      <td>Rio Grande do Sul</td>\n",
       "    </tr>\n",
       "    <tr>\n",
       "      <th>12198</th>\n",
       "      <td>apartment</td>\n",
       "      <td>South</td>\n",
       "      <td>151.0</td>\n",
       "      <td>256572.00</td>\n",
       "      <td>-30.033820</td>\n",
       "      <td>-51.198596</td>\n",
       "      <td>Rio Grande do Sul</td>\n",
       "    </tr>\n",
       "    <tr>\n",
       "      <th>12199</th>\n",
       "      <td>apartment</td>\n",
       "      <td>South</td>\n",
       "      <td>68.0</td>\n",
       "      <td>75957.01</td>\n",
       "      <td>-30.034061</td>\n",
       "      <td>-51.135494</td>\n",
       "      <td>Rio Grande do Sul</td>\n",
       "    </tr>\n",
       "  </tbody>\n",
       "</table>\n",
       "</div>"
      ],
      "text/plain": [
       "      property_type region  area_m2  price_usd        lat        lon  \\\n",
       "12195         house  South    188.0  115770.29 -30.027105 -51.130470   \n",
       "12196     apartment  South     65.0  123430.14 -30.039816 -51.223164   \n",
       "12197     apartment  South    142.0  185145.22 -29.696850 -53.858382   \n",
       "12198     apartment  South    151.0  256572.00 -30.033820 -51.198596   \n",
       "12199     apartment  South     68.0   75957.01 -30.034061 -51.135494   \n",
       "\n",
       "                   state  \n",
       "12195  Rio Grande do Sul  \n",
       "12196  Rio Grande do Sul  \n",
       "12197  Rio Grande do Sul  \n",
       "12198  Rio Grande do Sul  \n",
       "12199  Rio Grande do Sul  "
      ]
     },
     "execution_count": 335,
     "metadata": {},
     "output_type": "execute_result"
    }
   ],
   "source": [
    "rio.head()"
   ]
  },
  {
   "cell_type": "code",
   "execution_count": 336,
   "id": "f82700f6",
   "metadata": {},
   "outputs": [],
   "source": [
    "santa = df_south.loc[df_south['state'] == 'Santa Catarina']\n",
    "#results = my_dataframe.loc[my_dataframe[\"column_name\"] == my_value]\n"
   ]
  },
  {
   "cell_type": "code",
   "execution_count": 337,
   "id": "112417aa",
   "metadata": {},
   "outputs": [
    {
     "data": {
      "text/html": [
       "<div>\n",
       "<style scoped>\n",
       "    .dataframe tbody tr th:only-of-type {\n",
       "        vertical-align: middle;\n",
       "    }\n",
       "\n",
       "    .dataframe tbody tr th {\n",
       "        vertical-align: top;\n",
       "    }\n",
       "\n",
       "    .dataframe thead th {\n",
       "        text-align: right;\n",
       "    }\n",
       "</style>\n",
       "<table border=\"1\" class=\"dataframe\">\n",
       "  <thead>\n",
       "    <tr style=\"text-align: right;\">\n",
       "      <th></th>\n",
       "      <th>property_type</th>\n",
       "      <th>region</th>\n",
       "      <th>area_m2</th>\n",
       "      <th>price_usd</th>\n",
       "      <th>lat</th>\n",
       "      <th>lon</th>\n",
       "      <th>state</th>\n",
       "    </tr>\n",
       "  </thead>\n",
       "  <tbody>\n",
       "    <tr>\n",
       "      <th>17485</th>\n",
       "      <td>apartment</td>\n",
       "      <td>South</td>\n",
       "      <td>170.0</td>\n",
       "      <td>234669.51</td>\n",
       "      <td>-26.985996</td>\n",
       "      <td>-48.636383</td>\n",
       "      <td>Santa Catarina</td>\n",
       "    </tr>\n",
       "    <tr>\n",
       "      <th>17486</th>\n",
       "      <td>apartment</td>\n",
       "      <td>South</td>\n",
       "      <td>139.0</td>\n",
       "      <td>431791.91</td>\n",
       "      <td>-26.985996</td>\n",
       "      <td>-48.636383</td>\n",
       "      <td>Santa Catarina</td>\n",
       "    </tr>\n",
       "    <tr>\n",
       "      <th>17487</th>\n",
       "      <td>apartment</td>\n",
       "      <td>South</td>\n",
       "      <td>190.0</td>\n",
       "      <td>406760.50</td>\n",
       "      <td>-26.966631</td>\n",
       "      <td>-48.636383</td>\n",
       "      <td>Santa Catarina</td>\n",
       "    </tr>\n",
       "    <tr>\n",
       "      <th>17488</th>\n",
       "      <td>apartment</td>\n",
       "      <td>South</td>\n",
       "      <td>130.0</td>\n",
       "      <td>303505.91</td>\n",
       "      <td>-26.966631</td>\n",
       "      <td>-48.636383</td>\n",
       "      <td>Santa Catarina</td>\n",
       "    </tr>\n",
       "    <tr>\n",
       "      <th>17489</th>\n",
       "      <td>apartment</td>\n",
       "      <td>South</td>\n",
       "      <td>169.0</td>\n",
       "      <td>196150.54</td>\n",
       "      <td>-27.633241</td>\n",
       "      <td>-48.655876</td>\n",
       "      <td>Santa Catarina</td>\n",
       "    </tr>\n",
       "  </tbody>\n",
       "</table>\n",
       "</div>"
      ],
      "text/plain": [
       "      property_type region  area_m2  price_usd        lat        lon  \\\n",
       "17485     apartment  South    170.0  234669.51 -26.985996 -48.636383   \n",
       "17486     apartment  South    139.0  431791.91 -26.985996 -48.636383   \n",
       "17487     apartment  South    190.0  406760.50 -26.966631 -48.636383   \n",
       "17488     apartment  South    130.0  303505.91 -26.966631 -48.636383   \n",
       "17489     apartment  South    169.0  196150.54 -27.633241 -48.655876   \n",
       "\n",
       "                state  \n",
       "17485  Santa Catarina  \n",
       "17486  Santa Catarina  \n",
       "17487  Santa Catarina  \n",
       "17488  Santa Catarina  \n",
       "17489  Santa Catarina  "
      ]
     },
     "execution_count": 337,
     "metadata": {},
     "output_type": "execute_result"
    }
   ],
   "source": [
    "santa.head()"
   ]
  },
  {
   "cell_type": "code",
   "execution_count": 347,
   "id": "5602f7a7",
   "metadata": {},
   "outputs": [],
   "source": [
    "parana =  df_south.loc[df_south['state'].str.contains('paran', case=False) ]"
   ]
  },
  {
   "cell_type": "code",
   "execution_count": 350,
   "id": "dd4a76ee",
   "metadata": {},
   "outputs": [
    {
     "data": {
      "text/html": [
       "<div>\n",
       "<style scoped>\n",
       "    .dataframe tbody tr th:only-of-type {\n",
       "        vertical-align: middle;\n",
       "    }\n",
       "\n",
       "    .dataframe tbody tr th {\n",
       "        vertical-align: top;\n",
       "    }\n",
       "\n",
       "    .dataframe thead th {\n",
       "        text-align: right;\n",
       "    }\n",
       "</style>\n",
       "<table border=\"1\" class=\"dataframe\">\n",
       "  <thead>\n",
       "    <tr style=\"text-align: right;\">\n",
       "      <th></th>\n",
       "      <th>property_type</th>\n",
       "      <th>region</th>\n",
       "      <th>area_m2</th>\n",
       "      <th>price_usd</th>\n",
       "      <th>lat</th>\n",
       "      <th>lon</th>\n",
       "      <th>state</th>\n",
       "    </tr>\n",
       "  </thead>\n",
       "  <tbody>\n",
       "    <tr>\n",
       "      <th>8370</th>\n",
       "      <td>apartment</td>\n",
       "      <td>South</td>\n",
       "      <td>127.0</td>\n",
       "      <td>29644885.0</td>\n",
       "      <td>-25.455704</td>\n",
       "      <td>-49.292918</td>\n",
       "      <td>Paraná|Curitiba|Vila Izabel|</td>\n",
       "    </tr>\n",
       "    <tr>\n",
       "      <th>8371</th>\n",
       "      <td>apartment</td>\n",
       "      <td>South</td>\n",
       "      <td>104.0</td>\n",
       "      <td>21999625.0</td>\n",
       "      <td>-25.455704</td>\n",
       "      <td>-49.292918</td>\n",
       "      <td>Paraná|Curitiba|Vila Izabel|</td>\n",
       "    </tr>\n",
       "    <tr>\n",
       "      <th>8372</th>\n",
       "      <td>apartment</td>\n",
       "      <td>South</td>\n",
       "      <td>100.0</td>\n",
       "      <td>19421050.0</td>\n",
       "      <td>-25.460236</td>\n",
       "      <td>-49.293812</td>\n",
       "      <td>Paraná|Curitiba|Vila Izabel|</td>\n",
       "    </tr>\n",
       "    <tr>\n",
       "      <th>8373</th>\n",
       "      <td>apartment</td>\n",
       "      <td>South</td>\n",
       "      <td>77.0</td>\n",
       "      <td>14925294.0</td>\n",
       "      <td>-25.460236</td>\n",
       "      <td>-49.293812</td>\n",
       "      <td>Paraná|Curitiba|Vila Izabel|</td>\n",
       "    </tr>\n",
       "    <tr>\n",
       "      <th>8374</th>\n",
       "      <td>apartment</td>\n",
       "      <td>South</td>\n",
       "      <td>73.0</td>\n",
       "      <td>14416775.0</td>\n",
       "      <td>-25.460236</td>\n",
       "      <td>-49.293812</td>\n",
       "      <td>Paraná|Curitiba|Vila Izabel|</td>\n",
       "    </tr>\n",
       "  </tbody>\n",
       "</table>\n",
       "</div>"
      ],
      "text/plain": [
       "     property_type region  area_m2   price_usd        lat        lon  \\\n",
       "8370     apartment  South    127.0  29644885.0 -25.455704 -49.292918   \n",
       "8371     apartment  South    104.0  21999625.0 -25.455704 -49.292918   \n",
       "8372     apartment  South    100.0  19421050.0 -25.460236 -49.293812   \n",
       "8373     apartment  South     77.0  14925294.0 -25.460236 -49.293812   \n",
       "8374     apartment  South     73.0  14416775.0 -25.460236 -49.293812   \n",
       "\n",
       "                             state  \n",
       "8370  Paraná|Curitiba|Vila Izabel|  \n",
       "8371  Paraná|Curitiba|Vila Izabel|  \n",
       "8372  Paraná|Curitiba|Vila Izabel|  \n",
       "8373  Paraná|Curitiba|Vila Izabel|  \n",
       "8374  Paraná|Curitiba|Vila Izabel|  "
      ]
     },
     "execution_count": 350,
     "metadata": {},
     "output_type": "execute_result"
    }
   ],
   "source": [
    "parana.head()"
   ]
  },
  {
   "cell_type": "code",
   "execution_count": 354,
   "id": "c4eecb9f",
   "metadata": {},
   "outputs": [],
   "source": [
    "south_states_corr = {\n",
    "                    'Rio Grande do Sul': rio['area_m2'].corr(rio['price_usd']),\n",
    "                     'Santa Catarina' : santa['area_m2'].corr(santa['price_usd']), \n",
    "                     'Paraná' : parana['area_m2'].corr(parana['price_usd']),\n",
    "                    }"
   ]
  },
  {
   "cell_type": "code",
   "execution_count": 356,
   "id": "9c26541f",
   "metadata": {},
   "outputs": [
    {
     "data": {
      "text/plain": [
       "{'Rio Grande do Sul': 0.5773267433871904,\n",
       " 'Santa Catarina': 0.5068121769989853,\n",
       " 'Paraná': 0.5436659935502659}"
      ]
     },
     "execution_count": 356,
     "metadata": {},
     "output_type": "execute_result"
    }
   ],
   "source": [
    "south_states_corr"
   ]
  },
  {
   "cell_type": "code",
   "execution_count": null,
   "id": "9ef07d9e",
   "metadata": {},
   "outputs": [],
   "source": []
  }
 ],
 "metadata": {
  "kernelspec": {
   "display_name": "Python 3 (ipykernel)",
   "language": "python",
   "name": "python3"
  },
  "language_info": {
   "codemirror_mode": {
    "name": "ipython",
    "version": 3
   },
   "file_extension": ".py",
   "mimetype": "text/x-python",
   "name": "python",
   "nbconvert_exporter": "python",
   "pygments_lexer": "ipython3",
   "version": "3.9.12"
  }
 },
 "nbformat": 4,
 "nbformat_minor": 5
}
